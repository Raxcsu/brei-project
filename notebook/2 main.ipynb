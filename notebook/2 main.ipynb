{
 "cells": [
  {
   "cell_type": "code",
   "execution_count": 2,
   "metadata": {},
   "outputs": [],
   "source": [
    "import pandas as pd\n",
    "import numpy as np\n",
    "import matplotlib.pyplot as plt"
   ]
  },
  {
   "cell_type": "markdown",
   "metadata": {},
   "source": [
    "## Lectura de Datasets"
   ]
  },
  {
   "cell_type": "markdown",
   "metadata": {},
   "source": [
    "### Academico Dataset"
   ]
  },
  {
   "cell_type": "code",
   "execution_count": 6,
   "metadata": {},
   "outputs": [
    {
     "name": "stderr",
     "output_type": "stream",
     "text": [
      "C:\\Users\\oscar\\AppData\\Local\\Temp\\ipykernel_28008\\1230527439.py:3: DtypeWarning: Columns (15) have mixed types. Specify dtype option on import or set low_memory=False.\n",
      "  df_academico = pd.read_csv(file)\n"
     ]
    }
   ],
   "source": [
    "dataset = 'academico'\n",
    "file = f'../data/{dataset}.csv'\n",
    "df_academico = pd.read_csv(file)"
   ]
  },
  {
   "cell_type": "code",
   "execution_count": 7,
   "metadata": {},
   "outputs": [
    {
     "name": "stdout",
     "output_type": "stream",
     "text": [
      "<class 'pandas.core.frame.DataFrame'>\n",
      "RangeIndex: 45222 entries, 0 to 45221\n",
      "Data columns (total 23 columns):\n",
      " #   Column                 Non-Null Count  Dtype  \n",
      "---  ------                 --------------  -----  \n",
      " 0   Region_IE              44582 non-null  object \n",
      " 1   Provincia_IE           44581 non-null  object \n",
      " 2   UGEL_IE                44581 non-null  object \n",
      " 3   Distrito_IE            44581 non-null  object \n",
      " 4   CentroPoblado_IE       44581 non-null  object \n",
      " 5   Institucion_Educativa  44581 non-null  object \n",
      " 6   CodigoLocal_IE         44581 non-null  float64\n",
      " 7   CodigoModular_IE       44581 non-null  float64\n",
      " 8   Estudiante             45065 non-null  object \n",
      " 9   Grado                  45220 non-null  object \n",
      " 10  Fecha                  45220 non-null  object \n",
      " 11  Curso                  45220 non-null  object \n",
      " 12  Competencia            45220 non-null  object \n",
      " 13  % Adecuadas            41064 non-null  object \n",
      " 14  Nivel de logro         45220 non-null  object \n",
      " 15  DNI_Participante       44517 non-null  object \n",
      " 16  ID_Participante        44581 non-null  object \n",
      " 17  Participante           44581 non-null  object \n",
      " 18  Estatus                44581 non-null  object \n",
      " 19  Coordinador/a          44581 non-null  object \n",
      " 20  Programa               44581 non-null  object \n",
      " 21  Año PDL                44581 non-null  float64\n",
      " 22  Socios                 44581 non-null  object \n",
      "dtypes: float64(3), object(20)\n",
      "memory usage: 7.9+ MB\n"
     ]
    }
   ],
   "source": [
    "df_academico.info()"
   ]
  },
  {
   "cell_type": "code",
   "execution_count": 13,
   "metadata": {},
   "outputs": [
    {
     "data": {
      "text/plain": [
       "Index(['Region_IE', 'Provincia_IE', 'UGEL_IE', 'Distrito_IE',\n",
       "       'CentroPoblado_IE', 'Institucion_Educativa', 'CodigoLocal_IE',\n",
       "       'CodigoModular_IE', 'Estudiante', 'Grado', 'Fecha', 'Curso',\n",
       "       'Competencia', '% Adecuadas', 'Nivel de logro', 'DNI_Participante',\n",
       "       'ID_Participante', 'Participante', 'Estatus', 'Coordinador/a',\n",
       "       'Programa', 'Año PDL', 'Socios'],\n",
       "      dtype='object')"
      ]
     },
     "execution_count": 13,
     "metadata": {},
     "output_type": "execute_result"
    }
   ],
   "source": [
    "df_academico_columns = df_academico.columns\n",
    "df_academico_columns"
   ]
  },
  {
   "cell_type": "code",
   "execution_count": 15,
   "metadata": {},
   "outputs": [
    {
     "name": "stdout",
     "output_type": "stream",
     "text": [
      "232\n"
     ]
    }
   ],
   "source": [
    "df_academico_ID_Participante = df_academico['ID_Participante'].unique()\n",
    "print(len(df_academico_ID_Participante))"
   ]
  },
  {
   "cell_type": "markdown",
   "metadata": {},
   "source": [
    "### Clima de Aula Dataset"
   ]
  },
  {
   "cell_type": "code",
   "execution_count": 11,
   "metadata": {},
   "outputs": [],
   "source": [
    "dataset = 'clima_aula'\n",
    "file = f'../data/{dataset}.csv'\n",
    "df_clima_aula = pd.read_csv(file)"
   ]
  },
  {
   "cell_type": "code",
   "execution_count": 12,
   "metadata": {},
   "outputs": [
    {
     "name": "stdout",
     "output_type": "stream",
     "text": [
      "<class 'pandas.core.frame.DataFrame'>\n",
      "RangeIndex: 7856 entries, 0 to 7855\n",
      "Data columns (total 22 columns):\n",
      " #   Column                 Non-Null Count  Dtype  \n",
      "---  ------                 --------------  -----  \n",
      " 0   Region_IE              7720 non-null   object \n",
      " 1   Provincia_IE           7719 non-null   object \n",
      " 2   UGEL_IE                7719 non-null   object \n",
      " 3   Distrito_IE            7719 non-null   object \n",
      " 4   CentroPoblado_IE       7719 non-null   object \n",
      " 5   Institucion_Educativa  7719 non-null   object \n",
      " 6   CodigoLocal_IE         7719 non-null   float64\n",
      " 7   CodigoModular_IE       7719 non-null   float64\n",
      " 8   Grado                  7854 non-null   object \n",
      " 9   Fecha                  7854 non-null   object \n",
      " 10  Evaluacion             7854 non-null   object \n",
      " 11  Elemento               7854 non-null   object \n",
      " 12  % Positivas            7829 non-null   object \n",
      " 13  Nivel de logro         7854 non-null   object \n",
      " 14  DNI_Participante       7705 non-null   object \n",
      " 15  ID_Participante        7719 non-null   object \n",
      " 16  Participante           7719 non-null   object \n",
      " 17  Estatus                7719 non-null   object \n",
      " 18  Coordinador/a          7719 non-null   object \n",
      " 19  Programa               7719 non-null   object \n",
      " 20  Año PDL                7719 non-null   float64\n",
      " 21  Socios                 7719 non-null   object \n",
      "dtypes: float64(3), object(19)\n",
      "memory usage: 1.3+ MB\n"
     ]
    }
   ],
   "source": [
    "df_clima_aula.info()"
   ]
  },
  {
   "cell_type": "code",
   "execution_count": 14,
   "metadata": {},
   "outputs": [
    {
     "data": {
      "text/plain": [
       "Index(['Region_IE', 'Provincia_IE', 'UGEL_IE', 'Distrito_IE',\n",
       "       'CentroPoblado_IE', 'Institucion_Educativa', 'CodigoLocal_IE',\n",
       "       'CodigoModular_IE', 'Grado', 'Fecha', 'Evaluacion', 'Elemento',\n",
       "       '% Positivas', 'Nivel de logro', 'DNI_Participante', 'ID_Participante',\n",
       "       'Participante', 'Estatus', 'Coordinador/a', 'Programa', 'Año PDL',\n",
       "       'Socios'],\n",
       "      dtype='object')"
      ]
     },
     "execution_count": 14,
     "metadata": {},
     "output_type": "execute_result"
    }
   ],
   "source": [
    "df_clima_aula_columns = df_clima_aula.columns\n",
    "df_clima_aula_columns"
   ]
  },
  {
   "cell_type": "code",
   "execution_count": 16,
   "metadata": {},
   "outputs": [
    {
     "name": "stdout",
     "output_type": "stream",
     "text": [
      "259\n"
     ]
    }
   ],
   "source": [
    "df_clima_aula_ID_Participante = df_clima_aula['ID_Participante'].unique()\n",
    "print(len(df_clima_aula_ID_Participante))"
   ]
  },
  {
   "cell_type": "markdown",
   "metadata": {},
   "source": [
    "### Socio-emocional Dataset"
   ]
  },
  {
   "cell_type": "code",
   "execution_count": 18,
   "metadata": {},
   "outputs": [
    {
     "name": "stderr",
     "output_type": "stream",
     "text": [
      "C:\\Users\\oscar\\AppData\\Local\\Temp\\ipykernel_28008\\3496925767.py:3: DtypeWarning: Columns (15) have mixed types. Specify dtype option on import or set low_memory=False.\n",
      "  df_socioemocional = pd.read_csv(file)\n"
     ]
    }
   ],
   "source": [
    "dataset = 'socioemocional'\n",
    "file = f'../data/{dataset}.csv'\n",
    "df_socioemocional = pd.read_csv(file)"
   ]
  },
  {
   "cell_type": "code",
   "execution_count": 19,
   "metadata": {},
   "outputs": [
    {
     "name": "stdout",
     "output_type": "stream",
     "text": [
      "<class 'pandas.core.frame.DataFrame'>\n",
      "RangeIndex: 150003 entries, 0 to 150002\n",
      "Data columns (total 23 columns):\n",
      " #   Column                 Non-Null Count   Dtype  \n",
      "---  ------                 --------------   -----  \n",
      " 0   Region_IE              144732 non-null  object \n",
      " 1   Provincia_IE           144730 non-null  object \n",
      " 2   UGEL_IE                144730 non-null  object \n",
      " 3   Distrito_IE            144730 non-null  object \n",
      " 4   CentroPoblado_IE       144730 non-null  object \n",
      " 5   Institucion_Educativa  144730 non-null  object \n",
      " 6   CodigoLocal_IE         144730 non-null  float64\n",
      " 7   CodigoModular_IE       144730 non-null  float64\n",
      " 8   Estudiante             149593 non-null  object \n",
      " 9   Grado                  150000 non-null  object \n",
      " 10  Fecha                  150000 non-null  object \n",
      " 11  Evaluación             150000 non-null  object \n",
      " 12  Habilidad              150000 non-null  object \n",
      " 13  Promedio               150000 non-null  float64\n",
      " 14  Nivel de logro         150000 non-null  object \n",
      " 15  DNI_Participante       144692 non-null  object \n",
      " 16  ID_Participante        144730 non-null  object \n",
      " 17  Participante           144730 non-null  object \n",
      " 18  Estatus                144730 non-null  object \n",
      " 19  Coordinador/a          144730 non-null  object \n",
      " 20  Programa               144730 non-null  object \n",
      " 21  Año PDL                144730 non-null  float64\n",
      " 22  Socios                 144730 non-null  object \n",
      "dtypes: float64(4), object(19)\n",
      "memory usage: 26.3+ MB\n"
     ]
    }
   ],
   "source": [
    "df_socioemocional.info()"
   ]
  },
  {
   "cell_type": "code",
   "execution_count": 20,
   "metadata": {},
   "outputs": [
    {
     "data": {
      "text/plain": [
       "Index(['Region_IE', 'Provincia_IE', 'UGEL_IE', 'Distrito_IE',\n",
       "       'CentroPoblado_IE', 'Institucion_Educativa', 'CodigoLocal_IE',\n",
       "       'CodigoModular_IE', 'Estudiante', 'Grado', 'Fecha', 'Evaluación',\n",
       "       'Habilidad', 'Promedio', 'Nivel de logro', 'DNI_Participante',\n",
       "       'ID_Participante', 'Participante', 'Estatus', 'Coordinador/a',\n",
       "       'Programa', 'Año PDL', 'Socios'],\n",
       "      dtype='object')"
      ]
     },
     "execution_count": 20,
     "metadata": {},
     "output_type": "execute_result"
    }
   ],
   "source": [
    "df_socioemocional_columns = df_socioemocional.columns\n",
    "df_socioemocional_columns"
   ]
  },
  {
   "cell_type": "code",
   "execution_count": 21,
   "metadata": {},
   "outputs": [
    {
     "name": "stdout",
     "output_type": "stream",
     "text": [
      "181\n"
     ]
    }
   ],
   "source": [
    "df_socioemocional_ID_Participante = df_socioemocional['ID_Participante'].unique()\n",
    "print(len(df_socioemocional_ID_Participante))"
   ]
  },
  {
   "cell_type": "code",
   "execution_count": null,
   "metadata": {},
   "outputs": [],
   "source": []
  }
 ],
 "metadata": {
  "kernelspec": {
   "display_name": "Python 3",
   "language": "python",
   "name": "python3"
  },
  "language_info": {
   "codemirror_mode": {
    "name": "ipython",
    "version": 3
   },
   "file_extension": ".py",
   "mimetype": "text/x-python",
   "name": "python",
   "nbconvert_exporter": "python",
   "pygments_lexer": "ipython3",
   "version": "3.13.0"
  }
 },
 "nbformat": 4,
 "nbformat_minor": 2
}
